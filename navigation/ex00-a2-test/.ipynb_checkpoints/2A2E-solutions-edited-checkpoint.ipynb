{
 "cells": [
  {
   "cell_type": "markdown",
   "metadata": {
    "tags": []
   },
   "source": [
    "# 2A2E: Intro to Computer Engineering 2 - Solutions [Shippet to test Jupyter notebook]\n",
    "\n",
    "The following is a minimal snippet to test your Jupyter notebook on SageMaker Studio. We will reuse this approach for C18."
   ]
  },
  {
   "cell_type": "code",
   "execution_count": 26,
   "metadata": {},
   "outputs": [],
   "source": [
    "import numpy as np\n",
    "import matplotlib.pyplot as plt\n",
    "%matplotlib inline"
   ]
  },
  {
   "cell_type": "code",
   "execution_count": 27,
   "metadata": {},
   "outputs": [],
   "source": [
    "# Testing infrastructure copied from lecture notes\n",
    "# \n",
    "\n",
    "from random import randint, random\n",
    "from copy import deepcopy\n",
    "\n",
    "\n",
    "def run_one_test(args, result, func):\n",
    "    \"\"\"\n",
    "    Test if the input function generates the given result with the input args.\n",
    "    Args:\n",
    "        args: A tuple of arguments to apply to the function\n",
    "        result: The (single) result to expect from the function\n",
    "        func: The function to test\n",
    "    Returns:\n",
    "        True if the function produces an output that equals result\n",
    "    \"\"\"    \n",
    "    # apply func to args\n",
    "    # *args expands the input tuple and uses the results as arguments to the function    \n",
    "    if func(*args) == result:        \n",
    "        return True\n",
    "    else:\n",
    "        return False\n",
    "\n",
    "def run_tests(values, func):\n",
    "    \"\"\"\n",
    "    Test the input function with multiple input/ouput value pairs\n",
    "    Args:\n",
    "        values: a list of input-output pairs \n",
    "        func: The function to test\n",
    "    \"\"\"\n",
    "    successes = 0\n",
    "    failures = 0\n",
    "    for test_values in deepcopy(values):\n",
    "        if run_one_test(test_values[0], test_values[1], func):\n",
    "            successes += 1\n",
    "        else:\n",
    "            failures += 1\n",
    "    print('{} successes and {} failures'.format(successes, failures))\n",
    "\n",
    "\n",
    "\n",
    "def time_tests(tests, func, repeats_per_test=100):\n",
    "    \"\"\"\n",
    "    Time a collection of tests on the given function. This assumes that len(tests[i][0][0]) gives the problem size.\n",
    "\n",
    "    Note that all timing results include the cost of one deepcopy per test on the arguments. \n",
    "\n",
    "    Args:\n",
    "        tests: A list of input/output pairs that can be sent to run_one_test. \n",
    "        func: The function to test.\n",
    "        \n",
    "    Returns:\n",
    "        problem_sizes: the sizes of the problems tested\n",
    "        problem_means: a mean runtime in seconds for each problem size\n",
    "        problem_stdevs: a standard deviation for each mean\n",
    "    \"\"\"\n",
    "    \n",
    "    # for efficiency when we copy we are not going to use the outcomes \n",
    "    # so create a new list of test without outcomes\n",
    "    test_list = [test[0] for test in tests]\n",
    "    \n",
    "    timing_results = dict()\n",
    "    \n",
    "    for r in range(repeats_per_test):\n",
    "        # do one big copy of all tests, rather than copying each test individually\n",
    "        for args in deepcopy(test_list):\n",
    "            # run the test\n",
    "            res = %timeit -r 1 -n 1 -o -q func(*args)\n",
    "            # get the input size we tests\n",
    "            n = len(args[0])\n",
    "            # store the result in the dictionary\n",
    "            # each n maps to a list of two lists, one for mean, one for stddev\n",
    "            timing_results.setdefault(n, []).append(res.average)\n",
    "\n",
    "    # the individual problem sizes are the keys from the dictionary\n",
    "    problem_sizes = np.array(list(timing_results.keys()))\n",
    "    # calc means for the problem, \n",
    "    problem_means = np.array([np.mean(timing_results[n]) for n in problem_sizes])\n",
    "    # calc stdevs for the problem\n",
    "    problem_stdevs = np.array([np.std(timing_results[n]) for n in problem_sizes])\n",
    "    return problem_sizes, problem_means, problem_stdevs\n",
    "\n",
    "    \n"
   ]
  },
  {
   "cell_type": "markdown",
   "metadata": {},
   "source": [
    "## Question 1: Hotter/Colder\n",
    "\n",
    "The goal of your algorithm is to guess a secret integer between $1$ and $n$. For each guess your programme should either terminate in the case that you have guessed the correct answer, or it will recieve *hotter* ($1$) if this guess is closer than the previous guess, or *colder* ($-1$) if the answer is further away than the previous answer. Should your programme guess the same number twice you will recieve a tepid response ($0$). The secret integer is always in the range $[1...n]$ (i.e. you do not have to consider the case that the secret does not exist).\n"
   ]
  },
  {
   "cell_type": "code",
   "execution_count": 35,
   "metadata": {},
   "outputs": [],
   "source": [
    "\n",
    "# Define some constants to use in the guessing game\n",
    "\n",
    "HOTTER=\"hotter\"\n",
    "COLDER=\"colder\"\n",
    "TEPID=\"tepid\"\n",
    "CORRECT=\"correct\"\n",
    "\n",
    "def guess_secret(secret, current_guess, previous_guess):\n",
    "    \"\"\"\n",
    "    This function catpures the rules of the guessing game.\n",
    "    Args:\n",
    "        secret: The secret to be guessed\n",
    "        current_guess: The guess you're making\n",
    "        previous_guess: The guess you made before the current one\n",
    "    \"\"\"\n",
    "    if secret == current_guess:\n",
    "        return CORRECT\n",
    "    elif current_guess == previous_guess:\n",
    "        return TEPID\n",
    "    else:\n",
    "        # how far was previous guess away\n",
    "        previous_diff = abs(secret - previous_guess)\n",
    "        # how far away is the current guess\n",
    "        current_diff = abs(secret - current_guess)\n",
    "        if current_diff < previous_diff:\n",
    "            return HOTTER\n",
    "        else:\n",
    "            return COLDER"
   ]
  },
  {
   "cell_type": "code",
   "execution_count": 36,
   "metadata": {},
   "outputs": [
    {
     "name": "stdout",
     "output_type": "stream",
     "text": [
      "tepid\n",
      "hotter\n",
      "hotter\n",
      "colder\n",
      "correct\n"
     ]
    }
   ],
   "source": [
    "test_n = 100\n",
    "test_secret = 30\n",
    "print(guess_secret(test_secret, 0, 0))\n",
    "print(guess_secret(test_secret, 20, 0))\n",
    "print(guess_secret(test_secret, 25, 20))\n",
    "print(guess_secret(test_secret, 55, 25))\n",
    "print(guess_secret(test_secret, test_secret, 55))\n"
   ]
  },
  {
   "cell_type": "code",
   "execution_count": null,
   "metadata": {},
   "outputs": [],
   "source": []
  }
 ],
 "metadata": {
  "interpreter": {
   "hash": "a1ee6ddb3e9183b0de6905d9ddfbfe8a106531d5e4e4296eab44132ade9287ee"
  },
  "kernelspec": {
   "display_name": "default:Python",
   "language": "python",
   "name": "conda-env-default-py"
  },
  "language_info": {
   "codemirror_mode": {
    "name": "ipython",
    "version": 3
   },
   "file_extension": ".py",
   "mimetype": "text/x-python",
   "name": "python",
   "nbconvert_exporter": "python",
   "pygments_lexer": "ipython3",
   "version": "3.9.13"
  }
 },
 "nbformat": 4,
 "nbformat_minor": 4
}
